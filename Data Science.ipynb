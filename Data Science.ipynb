{
  "metadata": {
    "kernelspec": {
      "name": "python",
      "display_name": "Python (Pyodide)",
      "language": "python"
    },
    "language_info": {
      "codemirror_mode": {
        "name": "python",
        "version": 3
      },
      "file_extension": ".py",
      "mimetype": "text/x-python",
      "name": "python",
      "nbconvert_exporter": "python",
      "pygments_lexer": "ipython3",
      "version": "3.8"
    }
  },
  "nbformat_minor": 4,
  "nbformat": 4,
  "cells": [
    {
      "cell_type": "markdown",
      "source": "### IBM Data Science: ",
      "metadata": {}
    },
    {
      "cell_type": "code",
      "source": "Ejercicio 2 - Cree una celda markdown con el título del cuaderno. (1 pto)",
      "metadata": {
        "trusted": true
      },
      "outputs": [],
      "execution_count": null
    },
    {
      "cell_type": "markdown",
      "source": "Mi proyecto de Data Science IBM",
      "metadata": {}
    },
    {
      "cell_type": "code",
      "source": "Ejercicio 3 - Cree una celda markdown para una introducción. (1 pto)",
      "metadata": {
        "trusted": true
      },
      "outputs": [],
      "execution_count": null
    },
    {
      "cell_type": "markdown",
      "source": "Esto es una tarea calificatoria creando mi Markdown",
      "metadata": {}
    },
    {
      "cell_type": "markdown",
      "source": "Ejercicio 4 - Cree una celda markdown para enumerar los lenguajes de la ciencia de datos. ",
      "metadata": {}
    },
    {
      "cell_type": "code",
      "source": "Python.\nR.\nSQL.\nJava.\nJulia.\nScala.\nC/C++.\nJavaScript.",
      "metadata": {
        "trusted": true
      },
      "outputs": [],
      "execution_count": null
    },
    {
      "cell_type": "code",
      "source": "Ejercicio 5 - Cree una celda markdown para listar bibliotecas de ciencia de datos. (3 ptos)",
      "metadata": {
        "trusted": true
      },
      "outputs": [],
      "execution_count": null
    },
    {
      "cell_type": "code",
      "source": "TensorFlow.\nNumPy.\nSciPy.\nPandas.\nMatplotlib.\nKeras.\nSciKit-Learn.\nPyTorch.\nScrapy.\nBeautifulSoup.\nLightGBM.\nELI5.\nTheano.\nNuPIC.\nRamp.\nPipenv.\nBob.\nPyBrain.\nCaffe2.\nChainer.",
      "metadata": {
        "trusted": true
      },
      "outputs": [],
      "execution_count": null
    },
    {
      "cell_type": "code",
      "source": "Ejercicio 6 - Cree una celda markdown con una tabla de herramientas de Ciencia de Datos. (3 ptos)",
      "metadata": {
        "trusted": true
      },
      "outputs": [],
      "execution_count": null
    },
    {
      "cell_type": "markdown",
      "source": "### Herramientas de Ciencia de Datos\n\n| **Herramienta**             | **Descripción**                                                                 | **Tipo**                |\n|-----------------------------|---------------------------------------------------------------------------------|-------------------------|\n| **Python**                   | Lenguaje de programación ampliamente utilizado en análisis de datos y machine learning. | Lenguaje de programación |\n| **R**                        | Lenguaje especializado en análisis estadístico y visualización de datos.         | Lenguaje de programación |\n| **Jupyter Notebooks**        | Entorno interactivo para ejecutar y documentar código, especialmente en Python.  | Entorno de desarrollo    |\n| **TensorFlow**               | Biblioteca de machine learning y deep learning desarrollada por Google.         | Framework de ML          |\n| **Apache Spark**             | Motor de análisis distribuido para procesamiento de grandes volúmenes de datos. | Herramienta Big Data     |\n| **Tableau**                  | Plataforma de visualización interactiva de datos.                               | Herramienta de BI        |\n| **Power BI**                 | Software de Microsoft para análisis de datos empresariales y visualización.     | Herramienta de BI        |\n| **SQL**                      | Lenguaje para la gestión y consulta de bases de datos relacionales.             | Lenguaje de consulta     |\n| **Pandas**                   | Biblioteca de Python para manipulación y análisis de datos estructurados.       | Biblioteca de Python     |\n| **Scikit-learn**             | Biblioteca de machine learning en Python para modelado y análisis predictivo.   | Biblioteca de ML         |\n| **Matplotlib**               | Biblioteca de Python para la creación de gráficos estáticos, animados e interactivos. | Biblioteca de Visualización |\n| **Keras**                    | API para la construcción de modelos de redes neuronales sobre TensorFlow.       | API de Deep Learning     |\n| **Hadoop**                   | Framework para el almacenamiento distribuido y procesamiento de grandes datos.  | Herramienta Big Data     |\n| **KNIME**                    | Plataforma de análisis de datos y workflows de machine learning.                | Herramienta de Análisis  |\n",
      "metadata": {}
    },
    {
      "cell_type": "code",
      "source": "Ejercicio 7 - Cree una celda markdown introduciendo ejemplos de expresiones aritméticas. (1 pto)",
      "metadata": {
        "trusted": true
      },
      "outputs": [],
      "execution_count": null
    },
    {
      "cell_type": "markdown",
      "source": "### Ejemplos de Expresiones Aritméticas\n\n1. **Suma**:  \n   `3 + 5 = 8`\n\n2. **Resta**:  \n   `10 - 7 = 3`\n\n3. **Multiplicación**:  \n   `4 * 6 = 24`\n\n4. **División**:  \n   `20 / 4 = 5`\n\n5. **Potenciación**:  \n   `2^3 = 8`  \n   `2 ** 3 = 8` (en Python)\n\n6. **Módulo** (residuo de una división):  \n   `10 % 3 = 1`\n\n7. **División Entera**:  \n   `20 // 3 = 6` (en Python)",
      "metadata": {}
    },
    {
      "cell_type": "code",
      "source": "Ejercicio 8 - Cree una celda de códigopara multiplicar y sumar números. (2 ptos)",
      "metadata": {
        "trusted": true
      },
      "outputs": [],
      "execution_count": null
    },
    {
      "cell_type": "code",
      "source": "# Multiplicación y suma de números\n# Multiplicar 2 números\nmultiplicacion = 6 * 7\nprint(\"Multiplicación: 6 * 7 =\", multiplicacion)\n\n# Sumar 2 números\nsuma = 15 + 28\nprint(\"Suma: 15 + 28 =\", suma)\n",
      "metadata": {
        "trusted": true
      },
      "outputs": [
        {
          "name": "stdout",
          "text": "Multiplicación: 6 * 7 = 42\nSuma: 15 + 28 = 43\n",
          "output_type": "stream"
        }
      ],
      "execution_count": 2
    },
    {
      "cell_type": "code",
      "source": "Ejercicio 9 - Cree una celda de código para convertir minutos en horas. (2 ptos)",
      "metadata": {
        "trusted": true
      },
      "outputs": [],
      "execution_count": null
    },
    {
      "cell_type": "code",
      "source": "# Conversión de minutos a horas\nminutos = 150  # Ejemplo de minutos\nhoras = minutos / 60\n\nprint(f\"{minutos} minutos son {horas:.2f} horas.\")",
      "metadata": {
        "trusted": true
      },
      "outputs": [
        {
          "name": "stdout",
          "text": "150 minutos son 2.50 horas.\n",
          "output_type": "stream"
        }
      ],
      "execution_count": 3
    },
    {
      "cell_type": "code",
      "source": "Ejercicio 10 -Inserte una celda de código para listar Objetivos. (3 pts)",
      "metadata": {
        "trusted": true
      },
      "outputs": [],
      "execution_count": null
    },
    {
      "cell_type": "code",
      "source": "# Lista de Objetivos\nobjetivos = [\n    \"Aprender los fundamentos de Python\",\n    \"Entender los conceptos básicos de ciencia de datos\",\n    \"Dominar bibliotecas clave como Pandas y NumPy\",\n    \"Practicar la visualización de datos con Matplotlib\",\n    \"Aplicar machine learning con Scikit-learn\",\n]\n\n# Imprimir la lista de objetivos\nprint(\"Lista de Objetivos:\")\nfor i, objetivo in enumerate(objetivos, 1):\n    print(f\"{i}. {objetivo}\")",
      "metadata": {
        "trusted": true
      },
      "outputs": [
        {
          "name": "stdout",
          "text": "Lista de Objetivos:\n1. Aprender los fundamentos de Python\n2. Entender los conceptos básicos de ciencia de datos\n3. Dominar bibliotecas clave como Pandas y NumPy\n4. Practicar la visualización de datos con Matplotlib\n5. Aplicar machine learning con Scikit-learn\n",
          "output_type": "stream"
        }
      ],
      "execution_count": 4
    },
    {
      "cell_type": "code",
      "source": "Ejercicio 11 - Cree una celda markdown para indicar el nombre del Autor. (2 ptos)",
      "metadata": {
        "trusted": true
      },
      "outputs": [],
      "execution_count": null
    },
    {
      "cell_type": "markdown",
      "source": "### Autor:\n\n**Nombre:** Jorge Garcia Lopez",
      "metadata": {}
    },
    {
      "cell_type": "code",
      "source": "",
      "metadata": {
        "trusted": true
      },
      "outputs": [],
      "execution_count": null
    }
  ]
}